{
  "cells": [
    {
      "cell_type": "markdown",
      "metadata": {
        "id": "view-in-github",
        "colab_type": "text"
      },
      "source": [
        "<a href=\"https://colab.research.google.com/github/Enigma5755/Colab-Initial-Project/blob/main/can_you_create_a_Python_Code_cheat_sheet_of_the_most_common_commands_and_examples_of_for_loops_and_where%2C_then_examples%2C_a_sub_routine_make_the_code_so_that_it_creates_a_shortcut_on_the_desktop%2C_creates_the_folder_c_Ben_and_creates_the_app_files_needed_to_perform_the_task_The_task_would_be_to_check_the_driver_versions_for_every_windows_system_devices_and_suggest_upgrades_and_a_link_of_where_to_download_the_updated_version_Can_you_do_this_simply_where_I_can_explain_it_to_students%3F.ipynb\" target=\"_parent\"><img src=\"https://colab.research.google.com/assets/colab-badge.svg\" alt=\"Open In Colab\"/></a>"
      ]
    },
    {
      "cell_type": "markdown",
      "source": [
        "**Here's a Python code cheat sheet with examples and explanation for students:**\n",
        "\n",
        "**Common Commands:**\n",
        "\n",
        "- **Printing output:**"
      ],
      "metadata": {
        "id": "6lnRiW_DkPxB"
      }
    },
    {
      "cell_type": "code",
      "source": [
        "print(\"Hello, world!\")"
      ],
      "outputs": [],
      "execution_count": null,
      "metadata": {
        "id": "klqKO9FSkPxF"
      }
    },
    {
      "cell_type": "markdown",
      "source": [
        "- **Assigning variables:**"
      ],
      "metadata": {
        "id": "IfOcE2LpkPxG"
      }
    },
    {
      "cell_type": "code",
      "source": [
        "name = \"Bard\"\n",
        "age = 36  # No quotes for numbers"
      ],
      "outputs": [],
      "execution_count": null,
      "metadata": {
        "id": "Es4kYvBgkPxG"
      }
    },
    {
      "cell_type": "markdown",
      "source": [
        "- **Getting user input:**"
      ],
      "metadata": {
        "id": "xLOhRvIZkPxH"
      }
    },
    {
      "cell_type": "code",
      "source": [
        "name = input(\"What's your name? \")"
      ],
      "outputs": [],
      "execution_count": null,
      "metadata": {
        "id": "FJHb1IdbkPxH"
      }
    },
    {
      "cell_type": "markdown",
      "source": [
        "- **Making decisions:**"
      ],
      "metadata": {
        "id": "yyLxQyvDkPxI"
      }
    },
    {
      "cell_type": "code",
      "source": [
        "if age >= 18:\n",
        "    print(\"You're an adult.\")\n",
        "else:\n",
        "    print(\"You're a minor.\")"
      ],
      "outputs": [],
      "execution_count": null,
      "metadata": {
        "id": "gqIpMSZakPxI"
      }
    },
    {
      "cell_type": "markdown",
      "source": [
        "- **Repeating actions (for loops):**"
      ],
      "metadata": {
        "id": "2G0Rn3zokPxI"
      }
    },
    {
      "cell_type": "code",
      "source": [
        "for i in range(5):  # Repeats 5 times\n",
        "    print(\"Looping!\")"
      ],
      "outputs": [],
      "execution_count": null,
      "metadata": {
        "id": "JK3TuprkkPxJ"
      }
    },
    {
      "cell_type": "markdown",
      "source": [
        "**Creating a Shortcut and Folder:**"
      ],
      "metadata": {
        "id": "w-XntFcbkPxJ"
      }
    },
    {
      "cell_type": "code",
      "source": [
        "import os\n",
        "\n",
        "# Create the folder\n",
        "os.mkdir(\"C:\\\\Ben\")\n",
        "\n",
        "# Create a shortcut on the desktop\n",
        "shortcut_path = os.path.join(os.path.expanduser(\"~\"), \"Desktop\", \"Ben's App.lnk\")\n",
        "target_path = \"C:\\\\Ben\\\\app.py\"  # Replace with your app's file path\n",
        "os.symlink(target_path, shortcut_path)"
      ],
      "outputs": [],
      "execution_count": null,
      "metadata": {
        "id": "GM6XZ-WJkPxJ"
      }
    },
    {
      "cell_type": "markdown",
      "source": [
        "**Example Sub Routine (Function):**"
      ],
      "metadata": {
        "id": "UmUj_jJPkPxK"
      }
    },
    {
      "cell_type": "code",
      "source": [
        "def greet_user(name):\n",
        "    print(\"Hello, \" + name + \"!\")\n",
        "\n",
        "greet_user(\"Alice\")  # Call the function"
      ],
      "outputs": [],
      "execution_count": null,
      "metadata": {
        "id": "ZipcFKlJkPxK"
      }
    },
    {
      "cell_type": "markdown",
      "source": [
        "**Checking Driver Versions (Simplified Example):**"
      ],
      "metadata": {
        "id": "-YYu9pPokPxK"
      }
    },
    {
      "cell_type": "code",
      "source": [
        "import subprocess\n",
        "\n",
        "def check_drivers():\n",
        "    output = subprocess.check_output([\"driverquery\", \"/V\"])\n",
        "    print(output.decode())  # Print driver information\n",
        "\n",
        "# Call the function to check drivers\n",
        "check_drivers()"
      ],
      "outputs": [],
      "execution_count": null,
      "metadata": {
        "id": "whmCEutdkPxK"
      }
    },
    {
      "cell_type": "markdown",
      "source": [
        "**Additional Notes:**\n",
        "\n",
        "- **Comments:** Use `#` to explain code for readability.\n",
        "- **Indentation:** Python relies on indentation for code structure.\n",
        "- **Libraries:** Import external libraries for extra functionality (e.g., `os` for file operations, `subprocess` for running system commands).\n",
        "- **Error Handling:** Use try-except blocks to handle potential errors.\n",
        "- **Testing:** Thoroughly test your code to ensure it works as intended.\n",
        "\n",
        "**Remember:**\n",
        "\n",
        "- Break down complex tasks into smaller, manageable steps.\n",
        "- Use clear and descriptive variable names.\n",
        "- Test often and make adjustments as needed.\n",
        "- Embrace experimentation and learning!"
      ],
      "metadata": {
        "id": "_wlPW6ogkPxK"
      }
    }
  ],
  "metadata": {
    "colab": {
      "provenance": [],
      "include_colab_link": true
    },
    "kernelspec": {
      "display_name": "Python 3",
      "name": "python3"
    }
  },
  "nbformat": 4,
  "nbformat_minor": 0
}